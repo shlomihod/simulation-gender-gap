{
 "cells": [
  {
   "cell_type": "markdown",
   "metadata": {},
   "source": [
    "# Male-Female Differences: A Computer Simulation\n",
    "\n",
    "Based on: https://www.ruf.rice.edu/~lane/papers/male_female.pdf"
   ]
  },
  {
   "cell_type": "code",
   "execution_count": null,
   "metadata": {},
   "outputs": [],
   "source": [
    "# HIDDEN\n",
    "\n",
    "from ipywidgets import interact_manual, IntText\n",
    "\n",
    "from simulator import run_simulation\n",
    "\n",
    "interact_manual(run_simulation,\n",
    "                effect_size=(-3, 0, 0.1),\n",
    "                male_prop=(0.,1.),\n",
    "                random_seed=IntText());"
   ]
  }
 ],
 "metadata": {
  "kernelspec": {
   "display_name": "Python 3",
   "language": "python",
   "name": "python3"
  },
  "language_info": {
   "codemirror_mode": {
    "name": "ipython",
    "version": 3
   },
   "file_extension": ".py",
   "mimetype": "text/x-python",
   "name": "python",
   "nbconvert_exporter": "python",
   "pygments_lexer": "ipython3",
   "version": "3.7.3"
  }
 },
 "nbformat": 4,
 "nbformat_minor": 2
}
